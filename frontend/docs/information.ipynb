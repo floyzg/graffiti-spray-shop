{
 "cells": [
  {
   "cell_type": "markdown",
   "id": "4a71eb13",
   "metadata": {
    "vscode": {
     "languageId": "ini"
    }
   },
   "source": [
    "# ArtMarket\n",
    "\n",
    "Этот Jupyter Notebook предназначен для разработчиков, работающих над проектом магазина графити-спреев.  \n",
    "В данном файле содержатся примеры кода, заметки и инструкции, необходимые для разработки и поддержки проекта.\n",
    "\n",
    "Макет сайта доступен по ссылке: [Figma](https://www.figma.com/design/71BGumVnLyfYyvi62ppGmB/ArtMarket-Design?node-id=0-1&t=griaEarbQM5IklvO-1)"
   ]
  }
 ],
 "metadata": {
  "language_info": {
   "name": "python"
  }
 },
 "nbformat": 4,
 "nbformat_minor": 5
}
